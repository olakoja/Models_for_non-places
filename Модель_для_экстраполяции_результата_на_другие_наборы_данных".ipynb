{
  "cells": [
    {
      "cell_type": "markdown",
      "metadata": {
        "id": "view-in-github",
        "colab_type": "text"
      },
      "source": [
        "<a href=\"https://colab.research.google.com/github/olakoja/Models_for_non-places/blob/main/%D0%9C%D0%BE%D0%B4%D0%B5%D0%BB%D1%8C_%D0%B4%D0%BB%D1%8F_%D1%8D%D0%BA%D1%81%D1%82%D1%80%D0%B0%D0%BF%D0%BE%D0%BB%D1%8F%D1%86%D0%B8%D0%B8_%D1%80%D0%B5%D0%B7%D1%83%D0%BB%D1%8C%D1%82%D0%B0%D1%82%D0%B0_%D0%BD%D0%B0_%D0%B4%D1%80%D1%83%D0%B3%D0%B8%D0%B5_%D0%BD%D0%B0%D0%B1%D0%BE%D1%80%D1%8B_%D0%B4%D0%B0%D0%BD%D0%BD%D1%8B%D1%85%22.ipynb\" target=\"_parent\"><img src=\"https://colab.research.google.com/assets/colab-badge.svg\" alt=\"Open In Colab\"/></a>"
      ]
    },
    {
      "cell_type": "markdown",
      "source": [
        "# Установка бибилиотек и определение ключевых моментов"
      ],
      "metadata": {
        "id": "rkaZHRcMV1mZ"
      }
    },
    {
      "cell_type": "code",
      "source": [
        "!pip install fiona -qq\n",
        "\n",
        "import geopandas as gpd\n",
        "import numpy as np\n",
        "import pandas as pd\n",
        "from sklearn.model_selection import train_test_split\n",
        "from sklearn.ensemble import GradientBoostingClassifier, RandomForestClassifier\n",
        "from sklearn.model_selection import GridSearchCV\n",
        "from sklearn.preprocessing import PowerTransformer\n",
        "from imblearn.pipeline import Pipeline as ImbPipeline\n",
        "from imblearn.over_sampling import SMOTE\n",
        "from sklearn.metrics import classification_report, accuracy_score\n",
        "from sklearn.compose import ColumnTransformer\n",
        "from sklearn.feature_selection import RFE\n",
        "from sklearn.decomposition import PCA\n",
        "from sklearn.preprocessing import LabelEncoder\n",
        "from collections import Counter\n",
        "import geopandas as gpd\n",
        "import pandas as pd\n",
        "from typing import Union, Optional\n",
        "import fiona\n",
        "from shapely.geometry import mapping\n",
        "# ======================== КОНФИГУРАЦИЯ ========================\n",
        "\n",
        "gdf = gpd.read_file('/content/updated_polygons_with_subway_distance.gpkg')                     # Здесь находятся входные данные для обучения\n",
        "TARGET_COLUMN = \"non-place1\"                                          # Целевая переменная\n",
        "DROP_COLUMNS = ['osm_changeset', 'osm_id', 'osm_uid', 'osm_user',\n",
        "                'osm_id', 'name', 'layer', 'other_tags', 'path',\n",
        "                'type', 'building:levels', 'osm_version']                                               # Столбцы, подлежащие \"чистке\"\n",
        "new_gdf = gpd.read_file('/content/ELIZAROVSKAYA1.gpkg')                       # Тестовые данные для последующей оценки метода"
      ],
      "metadata": {
        "id": "6wedNfaQndZ-",
        "colab": {
          "base_uri": "https://localhost:8080/"
        },
        "outputId": "3cc29f34-9747-47ab-abca-ea7d1ff39375"
      },
      "execution_count": 2,
      "outputs": [
        {
          "output_type": "stream",
          "name": "stdout",
          "text": [
            "\u001b[2K     \u001b[90m━━━━━━━━━━━━━━━━━━━━━━━━━━━━━━━━━━━━━━━━\u001b[0m \u001b[32m56.6/56.6 kB\u001b[0m \u001b[31m1.6 MB/s\u001b[0m eta \u001b[36m0:00:00\u001b[0m\n",
            "\u001b[2K   \u001b[90m━━━━━━━━━━━━━━━━━━━━━━━━━━━━━━━━━━━━━━━━\u001b[0m \u001b[32m17.3/17.3 MB\u001b[0m \u001b[31m38.8 MB/s\u001b[0m eta \u001b[36m0:00:00\u001b[0m\n",
            "\u001b[?25h"
          ]
        }
      ]
    },
    {
      "cell_type": "markdown",
      "source": [
        "## Функция предобработки GeoDataFrame"
      ],
      "metadata": {
        "id": "DCOuIJTPhEFx"
      }
    },
    {
      "cell_type": "code",
      "source": [
        "# Функция для предварительной обработки данных перед обучением\n",
        "\n",
        "def enhanced_preprocessing(gdf, target_column='non-place1'):\n",
        "    \"\"\"Полная предобработка с удалением временных столбцов\n",
        "    gdf - Входной GeoDataFrame\n",
        "    target_column - Целевая переменная. По умолчанию 'non-place1'\n",
        "    \"\"\"\n",
        "    gdf = gdf.where(pd.notnull(gdf), np.nan)\n",
        "    gdf = gdf.dropna(axis=1, how='all')\n",
        "\n",
        "    geometry = gdf.geometry.copy()\n",
        "    df = pd.DataFrame(gdf.drop(columns='geometry'))\n",
        "\n",
        "    # 1. Удаление технических колонок\n",
        "    tech_cols = DROP_COLUMNS\n",
        "    df = df.drop(columns=[col for col in tech_cols if col in df.columns], errors='ignore')\n",
        "\n",
        "    # 2. Удаление временных меток (просто удаляем, без преобразований)\n",
        "    time_cols = df.select_dtypes(include=['datetime', 'timedelta', 'datetimetz']).columns\n",
        "    df = df.drop(columns=time_cols, errors='ignore')\n",
        "\n",
        "    # 3. Обработка целевой переменной\n",
        "    if target_column in df.columns:\n",
        "        df[target_column] = df[target_column].replace({'I': 'other', 'II': 'other', 'III': 'other', 'pustoe': 'other', 'water': 'other'})\n",
        "        df = df.dropna(subset=[target_column])\n",
        "\n",
        "    # 4. Обработка категориальных признаков\n",
        "    cat_cols = df.select_dtypes(include=['object', 'category']).columns\n",
        "    for col in cat_cols:\n",
        "        if col != target_column:\n",
        "            dummies = pd.get_dummies(df[col], prefix=col, drop_first=True)\n",
        "            df = pd.concat([df.drop(columns=[col]), dummies], axis=1)\n",
        "\n",
        "    # 5. Специфичная обработка дорожных данных\n",
        "    if 'road' in df.columns:\n",
        "        road_dummies = df['road'].str.get_dummies(sep=',')\n",
        "        road_dummies = road_dummies.add_prefix('road_')\n",
        "        df = pd.concat([df.drop(columns=['road']), road_dummies], axis=1)\n",
        "\n",
        "    # 6. Обработка площади (если есть)\n",
        "    if 'area' in df.columns:\n",
        "        df['area'] = pd.to_numeric(df['area'], errors='coerce')\n",
        "        df['area'] = df['area'].fillna(df['area'].median())\n",
        "        df['area'] = np.log1p(df['area'])  # Логарифмирование\n",
        "\n",
        "    # 7. Заполнение пропусков в числовых колонках\n",
        "    num_cols = df.select_dtypes(include=np.number).columns\n",
        "    df[num_cols] = df[num_cols].fillna(df[num_cols].median())\n",
        "\n",
        "    # 8. Удаление константных колонок\n",
        "    df = df.loc[:, df.nunique() > 1]\n",
        "    # 9. Удаление дубликатов строк\n",
        "    df = df.drop_duplicates()\n",
        "\n",
        "    return df, geometry"
      ],
      "metadata": {
        "id": "hMAPv17_V9Ra"
      },
      "execution_count": 3,
      "outputs": []
    },
    {
      "cell_type": "markdown",
      "source": [
        "## Применение функции предобработки и обучение модели"
      ],
      "metadata": {
        "id": "Q9yYC3AbhPRX"
      }
    },
    {
      "cell_type": "code",
      "source": [
        "# Загрузка и предобработка данных\n",
        "processed_data, geometry = enhanced_preprocessing(gdf)\n",
        "\n",
        "# Создаём новый GeoDataFrame, объединяя processed_data с геометрией\n",
        "geo_df = gpd.GeoDataFrame(\n",
        "    data=processed_data,\n",
        "    geometry=geometry,\n",
        "    crs=gdf.crs  # Сохраняем исходную систему координат\n",
        ")\n",
        "\n",
        "X = processed_data.drop(columns=[TARGET_COLUMN])\n",
        "y = processed_data[TARGET_COLUMN]\n",
        "\n",
        "# Разделение данных\n",
        "X_train, X_test, y_train, y_test = train_test_split(\n",
        "    X, y, test_size=0.2, stratify=y, random_state=42\n",
        ")\n",
        "\n",
        "# Быстрая модель (из исходного кода)\n",
        "model = RandomForestClassifier(\n",
        "    n_estimators=50,\n",
        "    random_state=42,\n",
        "    n_jobs=-1\n",
        ")\n",
        "\n",
        "model.fit(X_train, y_train)\n",
        "\n",
        "# ======================== Вывод результатов ========================\n",
        "# Оценка модели\n",
        "y_pred = model.predict(X_test)\n",
        "\n",
        "# Получаем вероятности для всего геодатафрейма\n",
        "probabilities_full = model.predict_proba(X)  # Убрали named_steps, так как model не Pipeline\n",
        "\n",
        "# Записываем предсказанные вероятности\n",
        "geo_df['Predicted_Probability'] = probabilities_full[:, 1]\n",
        "\n",
        "# Оценка модели\n",
        "y_pred = model.predict(X_test)\n",
        "\n",
        "print(\"\\nОтчет о классификации:\")\n",
        "print(classification_report(y_test, y_pred))\n",
        "\n",
        "average_accuracy = accuracy_score(y_test, y_pred)  # Заменили y_res на y_test\n",
        "print(f\"Средняя точность: {average_accuracy:.2f}\")\n"
      ],
      "metadata": {
        "colab": {
          "base_uri": "https://localhost:8080/"
        },
        "id": "QHL7atwehBZ7",
        "outputId": "781e0bcd-67c7-41dd-a734-8f4d5e188682"
      },
      "execution_count": 4,
      "outputs": [
        {
          "output_type": "stream",
          "name": "stdout",
          "text": [
            "\n",
            "Отчет о классификации:\n",
            "              precision    recall  f1-score   support\n",
            "\n",
            "   non-place       0.86      0.30      0.44        60\n",
            "       other       0.86      0.99      0.92       261\n",
            "\n",
            "    accuracy                           0.86       321\n",
            "   macro avg       0.86      0.64      0.68       321\n",
            "weighted avg       0.86      0.86      0.83       321\n",
            "\n",
            "Средняя точность: 0.86\n"
          ]
        }
      ]
    },
    {
      "cell_type": "markdown",
      "source": [
        "## Анализ признаков"
      ],
      "metadata": {
        "id": "89KS5dm3hea9"
      }
    },
    {
      "cell_type": "code",
      "source": [
        "import pandas as pd\n",
        "import matplotlib.pyplot as plt\n",
        "\n",
        "# Анализ важности признаков\n",
        "importances = pd.DataFrame({\n",
        "    'Feature': X.columns,\n",
        "    'Importance': model.feature_importances_\n",
        "})\n",
        "\n",
        "# Сортируем по абсолютной величине важности\n",
        "importances['Absolute Importance'] = importances['Importance'].abs()\n",
        "importances = importances.sort_values('Absolute Importance', ascending=False)\n",
        "\n",
        "# Выводим топ-10 важных признаков\n",
        "print(\"\\nТоп-20 важных признаков (включая отрицательные):\")\n",
        "print(importances.head(20))\n",
        "\n",
        "# Визуализация важности признаков\n",
        "plt.figure(figsize=(10, 6))\n",
        "plt.barh(importances['Feature'].head(20), importances['Importance'].head(20), color='skyblue')\n",
        "plt.xlabel('Важность признаков')\n",
        "plt.title('Топ-20 важных признаков')\n",
        "plt.gca().invert_yaxis()  # Инвертируем ось Y, чтобы самый важный признак был сверху\n",
        "plt.show()"
      ],
      "metadata": {
        "colab": {
          "base_uri": "https://localhost:8080/",
          "height": 963
        },
        "id": "3YWTvXUkUq10",
        "outputId": "66632af9-4e8a-4a56-b7e5-a79751675a5e"
      },
      "execution_count": 5,
      "outputs": [
        {
          "output_type": "stream",
          "name": "stdout",
          "text": [
            "\n",
            "Топ-20 важных признаков (включая отрицательные):\n",
            "                                Feature  Importance  Absolute Importance\n",
            "19                                 area    0.134279             0.134279\n",
            "0                       boundary_length    0.127811             0.127811\n",
            "15                    crossing_distance    0.095910             0.095910\n",
            "13                        urna_distance    0.092883             0.092883\n",
            "23                      subway_distance    0.090742             0.090742\n",
            "14                     parking_distance    0.090492             0.090492\n",
            "16                         bus_distance    0.083384             0.083384\n",
            "17                       bench_distance    0.079378             0.079378\n",
            "6                neighbor_ratio_service    0.018286             0.018286\n",
            "5      neighbor_boundary_length_service    0.016606             0.016606\n",
            "2                neighbor_ratio_I_place    0.011195             0.011195\n",
            "244                        road_service    0.010353             0.010353\n",
            "215                        road_footway    0.009490             0.009490\n",
            "7    neighbor_boundary_length_non_place    0.008772             0.008772\n",
            "8              neighbor_ratio_non_place    0.008379             0.008379\n",
            "1      neighbor_boundary_length_I_place    0.006980             0.006980\n",
            "232                           road_path    0.006698             0.006698\n",
            "245               road_service, footway    0.006146             0.006146\n",
            "3     neighbor_boundary_length_II_place    0.005738             0.005738\n",
            "213                   non-place_service    0.005045             0.005045\n"
          ]
        },
        {
          "output_type": "display_data",
          "data": {
            "text/plain": [
              "<Figure size 1000x600 with 1 Axes>"
            ],
            "image/png": "[encoded data removed]"
          },
          "metadata": {}
        }
      ]
    },
    {
      "cell_type": "markdown",
      "source": [
        "Сохранение признаков в файл"
      ],
      "metadata": {
        "id": "GavrwIilhjt5"
      }
    },
    {
      "cell_type": "code",
      "source": [
        "importances.to_csv(\"Коэффициенты по обучающим данным.csv\")"
      ],
      "metadata": {
        "id": "Diciq72aUDt7"
      },
      "execution_count": 6,
      "outputs": []
    },
    {
      "cell_type": "markdown",
      "source": [
        "# Применение модели к проверочным данным"
      ],
      "metadata": {
        "id": "iHyi6erthzgv"
      }
    },
    {
      "cell_type": "code",
      "source": [
        "# Создаём функцию для приведения новых данных к формату, необходимому для применения модели\n",
        "def process_geodataframes(\n",
        "    original_df: pd.DataFrame,\n",
        "    original_geometry: Union[str, gpd.GeoSeries],\n",
        "    processed_gdf: gpd.GeoDataFrame,\n",
        "    model_features: Optional[list] = None,\n",
        "    keep_geometry: bool = True\n",
        ") -> gpd.GeoDataFrame:\n",
        "    \"\"\"\n",
        "    Приводит структуру геодатафрейма к структуре, ожидаемой моделью.\n",
        "\n",
        "    Параметры:\n",
        "    ----------\n",
        "    original_df : pd.DataFrame\n",
        "        Исходный датафрейм, использованный для обучения модели\n",
        "    original_geometry : str или gpd.GeoSeries\n",
        "        Название столбца с геометрией или сама геометрия\n",
        "    processed_gdf : gpd.GeoDataFrame\n",
        "        Новый геодатафрейм для обработки\n",
        "    model_features : list, optional\n",
        "        Список признаков, которые использует модель (если None, берутся из original_df)\n",
        "    keep_geometry : bool, optional\n",
        "        Сохранять ли исходную геометрию processed_gdf\n",
        "\n",
        "    Возвращает:\n",
        "    -----------\n",
        "    gpd.GeoDataFrame\n",
        "        Геодатафрейм с признаками в том же порядке, что и при обучении модели\n",
        "    \"\"\"\n",
        "    # Определяем признаки модели\n",
        "    if model_features is None:\n",
        "        model_features = original_df.columns.tolist()\n",
        "        if isinstance(original_geometry, str) and original_geometry in model_features:\n",
        "            model_features.remove(original_geometry)\n",
        "\n",
        "    # Сохраняем геометрию\n",
        "    geometry = processed_gdf.geometry if keep_geometry else original_gdf.geometry\n",
        "\n",
        "    # Создаём DataFrame с нужными признаками\n",
        "    result_df = pd.DataFrame(index=processed_gdf.index)\n",
        "\n",
        "    # Добавляем признаки в правильном порядке\n",
        "    for feature in model_features:\n",
        "        if feature in processed_gdf.columns:\n",
        "            result_df[feature] = processed_gdf[feature]\n",
        "        else:\n",
        "            # Заполняем отсутствующие признаки нулями/пустыми значениями\n",
        "            if feature in original_df.columns:\n",
        "                dtype = original_df[feature].dtype\n",
        "                if pd.api.types.is_numeric_dtype(dtype):\n",
        "                    result_df[feature] = 0\n",
        "                elif pd.api.types.is_datetime64_any_dtype(dtype):\n",
        "                    result_df[feature] = pd.NaT\n",
        "                elif pd.api.types.is_bool_dtype(dtype):\n",
        "                    result_df[feature] = False\n",
        "                elif pd.api.types.is_categorical_dtype(dtype):\n",
        "                    result_df[feature] = pd.Categorical([], categories=original_df[feature].cat.categories)\n",
        "                else:\n",
        "                    result_df[feature] = ''\n",
        "            else:\n",
        "                result_df[feature] = 0  # Для неизвестных признаков\n",
        "\n",
        "    # Создаём итоговый GeoDataFrame\n",
        "    result_gdf = gpd.GeoDataFrame(\n",
        "        result_df,\n",
        "        geometry=geometry,\n",
        "        crs=processed_gdf.crs\n",
        "    )\n",
        "\n",
        "    return result_gdf"
      ],
      "metadata": {
        "id": "KnarNV0d0iqB"
      },
      "execution_count": 7,
      "outputs": []
    },
    {
      "cell_type": "code",
      "source": [
        "# Применяем функцию и получаем предсказания\n",
        "\n",
        "processed_data = process_geodataframes(\n",
        "    original_df=geo_df,\n",
        "    original_geometry=geometry,\n",
        "    processed_gdf=new_gdf\n",
        ")\n",
        "geometry = processed_data['geometry'].copy()\n",
        "# Теперь можно безопасно делать предсказания\n",
        "predictions = model.predict(processed_data.drop(columns=['geometry', 'Predicted_Probability', 'non-place1']))"
      ],
      "metadata": {
        "id": "BGsWy_LGD6fW"
      },
      "execution_count": null,
      "outputs": []
    },
    {
      "cell_type": "code",
      "source": [
        "#Формируем GeoDataFrame\n",
        "\n",
        "predictions_df = gpd.GeoDataFrame(\n",
        "    data=predictions,\n",
        "    geometry=geometry,\n",
        "    crs=gdf.crs  # Сохраняем исходную систему координат\n",
        ")"
      ],
      "metadata": {
        "id": "CAfYzEk0Mwxz"
      },
      "execution_count": 9,
      "outputs": []
    },
    {
      "cell_type": "markdown",
      "source": [
        "# !!!\n",
        "Перед запуском ячейки с сохранением данных в файл обязательно удалить файл с названием predictions_with_geometry.gpkg из целевой папки"
      ],
      "metadata": {
        "id": "zqNJwQBJRZSS"
      }
    },
    {
      "cell_type": "code",
      "source": [
        "# Убедитесь, что  схема для GeoDataFrame правильная\n",
        "schema = {\n",
        "    'geometry': 'MultiPolygon',  # Замените на нужный тип геометрии\n",
        "    'properties': {'0': 'str'}  # Используем имя столбца '0' как строку\n",
        "}\n",
        "\n",
        "# Открываем файл для записи\n",
        "with fiona.open('predictions_with_geometry.gpkg', mode='w', driver='GPKG', crs=predictions_df.crs, schema=schema) as dst:\n",
        "    for _, row in predictions_df.iterrows():\n",
        "        dst.write({\n",
        "            'geometry': mapping(row['geometry']),\n",
        "            'properties': {'0': row[0]}  # Используем имя столбца 0\n",
        "        })"
      ],
      "metadata": {
        "id": "jEmsEiKWPJoJ"
      },
      "execution_count": 10,
      "outputs": []
    }
  ],
  "metadata": {
    "colab": {
      "provenance": [],
      "collapsed_sections": [
        "sMAhVxUfq49f",
        "6TvlE3kxrCaG",
        "BO8hSW650zzC",
        "ePuPqRcyadic"
      ],
      "include_colab_link": true
    },
    "kernelspec": {
      "display_name": "Python 3",
      "name": "python3"
    },
    "language_info": {
      "name": "python"
    }
  },
  "nbformat": 4,
  "nbformat_minor": 0
}
